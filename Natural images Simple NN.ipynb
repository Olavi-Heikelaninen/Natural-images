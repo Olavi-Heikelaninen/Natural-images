{
 "cells": [
  {
   "cell_type": "markdown",
   "metadata": {},
   "source": [
    "Importing whatever I need."
   ]
  },
  {
   "cell_type": "code",
   "execution_count": 1,
   "metadata": {},
   "outputs": [],
   "source": [
    "#I want to know total running time of this notebook.\n",
    "import time\n",
    "start_time = time.time()"
   ]
  },
  {
   "cell_type": "code",
   "execution_count": 2,
   "metadata": {},
   "outputs": [
    {
     "name": "stderr",
     "output_type": "stream",
     "text": [
      "Using TensorFlow backend.\n"
     ]
    }
   ],
   "source": [
    "import pandas as pd\n",
    "import numpy as np\n",
    "#from scipy import cluster\n",
    "import seaborn as sns\n",
    "from matplotlib import pyplot as plt\n",
    "from matplotlib import image as mpimg\n",
    "%matplotlib inline\n",
    "\n",
    "from sklearn.model_selection import train_test_split\n",
    "from sklearn.metrics import confusion_matrix\n",
    "import itertools\n",
    "\n",
    "from keras.utils.np_utils import to_categorical # convert to one-hot-encoding\n",
    "from keras.models import Sequential\n",
    "from keras.layers import Dense, Dropout, Flatten, Conv2D, MaxPool2D\n",
    "from keras import optimizers\n",
    "from keras.preprocessing.image import ImageDataGenerator\n",
    "from keras.callbacks import ReduceLROnPlateau\n",
    "sns.set(style='white', context='notebook', palette='deep')"
   ]
  },
  {
   "cell_type": "code",
   "execution_count": 3,
   "metadata": {},
   "outputs": [],
   "source": [
    "import PIL"
   ]
  },
  {
   "cell_type": "code",
   "execution_count": 4,
   "metadata": {},
   "outputs": [],
   "source": [
    "data_dir = r'D:\\Desktop\\Python projects\\Natural images dataset and projects\\natural_images'"
   ]
  },
  {
   "cell_type": "code",
   "execution_count": 5,
   "metadata": {},
   "outputs": [
    {
     "name": "stdout",
     "output_type": "stream",
     "text": [
      "Found 5522 images belonging to 8 classes.\n",
      "Found 1377 images belonging to 8 classes.\n"
     ]
    }
   ],
   "source": [
    "BATCH_SIZE = 32\n",
    "IMAGE_SIZE=(64,64)\n",
    "IMAGE_SHAPE=(64,64,3)\n",
    "train_datagen = ImageDataGenerator(preprocessing_function=None,\n",
    "                                   shear_range=0.2,\n",
    "                                   zoom_range=0.3,\n",
    "                                   horizontal_flip=True,\n",
    "                                   validation_split=0.20, # set validation split\n",
    "                                   rescale = (1.0/255.0))\n",
    "                                   \n",
    "train_generator = train_datagen.flow_from_directory(\n",
    "    data_dir,\n",
    "    target_size = IMAGE_SIZE,\n",
    "    shuffle=True,\n",
    "    batch_size=BATCH_SIZE,\n",
    "    class_mode='categorical',\n",
    "    color_mode='rgb',\n",
    "    subset='training') # set as training data\n",
    "\n",
    "validation_generator = train_datagen.flow_from_directory(\n",
    "    data_dir, # same directory as training data\n",
    "    target_size = IMAGE_SIZE,\n",
    "    batch_size=BATCH_SIZE,\n",
    "    shuffle= False,\n",
    "    class_mode='categorical',\n",
    "    color_mode='rgb',\n",
    "    subset='validation') # set as validation data"
   ]
  },
  {
   "cell_type": "code",
   "execution_count": 6,
   "metadata": {
    "scrolled": true
   },
   "outputs": [],
   "source": [
    "model = Sequential()\n",
    "\n",
    "model.add(Conv2D(filters = 64, kernel_size = (5,5), input_shape = (64,64,3),\n",
    "                 activation ='relu'))\n",
    "model.add(MaxPool2D(pool_size=(2, 2)))\n",
    "model.add(Dropout(rate=0.25))\n",
    "\n",
    "model.add(Conv2D(filters=96, kernel_size=(5, 5), activation='relu'))\n",
    "model.add(MaxPool2D(pool_size=(2, 2)))\n",
    "\n",
    "model.add(Conv2D(filters=128, kernel_size=(5, 5), activation='relu'))\n",
    "model.add(MaxPool2D(pool_size=(2, 2)))\n",
    "\n",
    "model.add(Conv2D(filters=160, kernel_size=(3, 3), activation='relu'))\n",
    "\n",
    "model.add(Flatten())\n",
    "model.add(Dense(128, activation='relu'))\n",
    "model.add(Dropout(rate=0.25))\n",
    "model.add(Dense(8, activation='softmax'))"
   ]
  },
  {
   "cell_type": "code",
   "execution_count": 7,
   "metadata": {},
   "outputs": [],
   "source": [
    "optimizer = optimizers.Adadelta()\n",
    "\n",
    "learning_rate_reduction = ReduceLROnPlateau(monitor='val_acc', \n",
    "                                            patience=3, \n",
    "                                            verbose=1, \n",
    "                                            factor=0.5, \n",
    "                                            min_lr=0.00001)\n",
    "model.compile(optimizer = optimizer , loss = \"categorical_crossentropy\", metrics=[\"accuracy\"])\n"
   ]
  },
  {
   "cell_type": "code",
   "execution_count": 8,
   "metadata": {},
   "outputs": [
    {
     "name": "stdout",
     "output_type": "stream",
     "text": [
      "Model: \"sequential_1\"\n",
      "_________________________________________________________________\n",
      "Layer (type)                 Output Shape              Param #   \n",
      "=================================================================\n",
      "conv2d_1 (Conv2D)            (None, 60, 60, 64)        4864      \n",
      "_________________________________________________________________\n",
      "max_pooling2d_1 (MaxPooling2 (None, 30, 30, 64)        0         \n",
      "_________________________________________________________________\n",
      "dropout_1 (Dropout)          (None, 30, 30, 64)        0         \n",
      "_________________________________________________________________\n",
      "conv2d_2 (Conv2D)            (None, 26, 26, 96)        153696    \n",
      "_________________________________________________________________\n",
      "max_pooling2d_2 (MaxPooling2 (None, 13, 13, 96)        0         \n",
      "_________________________________________________________________\n",
      "conv2d_3 (Conv2D)            (None, 9, 9, 128)         307328    \n",
      "_________________________________________________________________\n",
      "max_pooling2d_3 (MaxPooling2 (None, 4, 4, 128)         0         \n",
      "_________________________________________________________________\n",
      "conv2d_4 (Conv2D)            (None, 2, 2, 160)         184480    \n",
      "_________________________________________________________________\n",
      "flatten_1 (Flatten)          (None, 640)               0         \n",
      "_________________________________________________________________\n",
      "dense_1 (Dense)              (None, 128)               82048     \n",
      "_________________________________________________________________\n",
      "dropout_2 (Dropout)          (None, 128)               0         \n",
      "_________________________________________________________________\n",
      "dense_2 (Dense)              (None, 8)                 1032      \n",
      "=================================================================\n",
      "Total params: 733,448\n",
      "Trainable params: 733,448\n",
      "Non-trainable params: 0\n",
      "_________________________________________________________________\n"
     ]
    }
   ],
   "source": [
    "model.summary()"
   ]
  },
  {
   "cell_type": "code",
   "execution_count": 9,
   "metadata": {},
   "outputs": [
    {
     "name": "stdout",
     "output_type": "stream",
     "text": [
      "Epoch 1/30\n",
      "173/173 [==============================] - 96s 556ms/step - loss: 1.8904 - accuracy: 0.2505 - val_loss: 1.5971 - val_accuracy: 0.4299\n",
      "Epoch 2/30\n",
      "173/173 [==============================] - 70s 402ms/step - loss: 1.2734 - accuracy: 0.5455 - val_loss: 1.7053 - val_accuracy: 0.6747\n",
      "Epoch 3/30\n",
      "173/173 [==============================] - 51s 294ms/step - loss: 0.7650 - accuracy: 0.7229 - val_loss: 1.7282 - val_accuracy: 0.7291\n",
      "Epoch 4/30\n",
      "173/173 [==============================] - 34s 194ms/step - loss: 0.5847 - accuracy: 0.7841 - val_loss: 0.6380 - val_accuracy: 0.7487\n",
      "Epoch 5/30\n",
      "173/173 [==============================] - 35s 200ms/step - loss: 0.4942 - accuracy: 0.8164 - val_loss: 0.0141 - val_accuracy: 0.8286\n",
      "Epoch 6/30\n",
      "173/173 [==============================] - 33s 190ms/step - loss: 0.4209 - accuracy: 0.8415 - val_loss: 7.9791e-04 - val_accuracy: 0.8526\n",
      "Epoch 7/30\n",
      "173/173 [==============================] - 33s 189ms/step - loss: 0.3892 - accuracy: 0.8569 - val_loss: 0.0011 - val_accuracy: 0.8402\n",
      "Epoch 8/30\n",
      "173/173 [==============================] - 33s 190ms/step - loss: 0.3540 - accuracy: 0.8665 - val_loss: 9.3798e-04 - val_accuracy: 0.8221\n",
      "Epoch 9/30\n",
      "173/173 [==============================] - 33s 191ms/step - loss: 0.3279 - accuracy: 0.8805 - val_loss: 7.4384e-05 - val_accuracy: 0.8555\n",
      "Epoch 10/30\n",
      "173/173 [==============================] - 34s 194ms/step - loss: 0.2955 - accuracy: 0.8901 - val_loss: 0.0020 - val_accuracy: 0.8627\n",
      "Epoch 11/30\n",
      "173/173 [==============================] - 32s 185ms/step - loss: 0.2891 - accuracy: 0.8935 - val_loss: 4.8244e-04 - val_accuracy: 0.8874\n",
      "Epoch 12/30\n",
      "173/173 [==============================] - 34s 194ms/step - loss: 0.2594 - accuracy: 0.9073 - val_loss: 8.3446e-07 - val_accuracy: 0.9005\n",
      "Epoch 13/30\n",
      "173/173 [==============================] - 32s 186ms/step - loss: 0.2462 - accuracy: 0.9084 - val_loss: 1.9989e-04 - val_accuracy: 0.8889\n",
      "Epoch 14/30\n",
      "173/173 [==============================] - 32s 184ms/step - loss: 0.2397 - accuracy: 0.9131 - val_loss: 0.0000e+00 - val_accuracy: 0.8991\n",
      "Epoch 15/30\n",
      "173/173 [==============================] - 32s 183ms/step - loss: 0.2237 - accuracy: 0.9187 - val_loss: 2.7656e-05 - val_accuracy: 0.8991\n",
      "Epoch 16/30\n",
      "173/173 [==============================] - 32s 184ms/step - loss: 0.2059 - accuracy: 0.9272 - val_loss: 2.0027e-05 - val_accuracy: 0.8780\n",
      "Epoch 17/30\n",
      "173/173 [==============================] - 32s 186ms/step - loss: 0.1924 - accuracy: 0.9308 - val_loss: 2.3842e-07 - val_accuracy: 0.9005\n",
      "Epoch 18/30\n",
      "173/173 [==============================] - 32s 182ms/step - loss: 0.1789 - accuracy: 0.9335 - val_loss: 3.4571e-06 - val_accuracy: 0.9049\n",
      "Epoch 19/30\n",
      "173/173 [==============================] - 34s 194ms/step - loss: 0.1941 - accuracy: 0.9301 - val_loss: 2.3842e-07 - val_accuracy: 0.8729\n",
      "Epoch 20/30\n",
      "173/173 [==============================] - 34s 194ms/step - loss: 0.1659 - accuracy: 0.9402 - val_loss: 2.7418e-06 - val_accuracy: 0.8991\n",
      "Epoch 21/30\n",
      "173/173 [==============================] - 33s 190ms/step - loss: 0.1546 - accuracy: 0.9453 - val_loss: 2.3842e-07 - val_accuracy: 0.8932\n",
      "Epoch 22/30\n",
      "173/173 [==============================] - 34s 198ms/step - loss: 0.1564 - accuracy: 0.9451 - val_loss: 0.0000e+00 - val_accuracy: 0.9070\n",
      "Epoch 23/30\n",
      "173/173 [==============================] - 32s 186ms/step - loss: 0.1438 - accuracy: 0.9475 - val_loss: 0.0000e+00 - val_accuracy: 0.8976\n",
      "Epoch 24/30\n",
      "173/173 [==============================] - 32s 186ms/step - loss: 0.1457 - accuracy: 0.9489 - val_loss: 0.0000e+00 - val_accuracy: 0.8932\n",
      "Epoch 25/30\n",
      "173/173 [==============================] - 32s 183ms/step - loss: 0.1302 - accuracy: 0.9545 - val_loss: 0.0000e+00 - val_accuracy: 0.8773\n",
      "Epoch 26/30\n",
      "173/173 [==============================] - 32s 186ms/step - loss: 0.1263 - accuracy: 0.9553 - val_loss: 0.0000e+00 - val_accuracy: 0.8932\n",
      "Epoch 27/30\n",
      "173/173 [==============================] - 33s 193ms/step - loss: 0.1297 - accuracy: 0.9549 - val_loss: 1.6451e-05 - val_accuracy: 0.9049\n",
      "Epoch 28/30\n",
      "173/173 [==============================] - 34s 198ms/step - loss: 0.1133 - accuracy: 0.9587 - val_loss: 0.0000e+00 - val_accuracy: 0.9049\n",
      "Epoch 29/30\n",
      "173/173 [==============================] - 33s 192ms/step - loss: 0.1262 - accuracy: 0.9578 - val_loss: 0.0000e+00 - val_accuracy: 0.9092\n",
      "Epoch 30/30\n",
      "173/173 [==============================] - 34s 194ms/step - loss: 0.1066 - accuracy: 0.9574 - val_loss: 0.0000e+00 - val_accuracy: 0.8882\n"
     ]
    }
   ],
   "source": [
    "epochs = 30\n",
    "\n",
    "model_history = model.fit_generator(train_generator, steps_per_epoch=len(train_generator), epochs=epochs, verbose=1, \n",
    "                    callbacks=None, validation_data=validation_generator, \n",
    "                    validation_steps=len(validation_generator), \n",
    "                    class_weight=None, max_queue_size=10, workers=1, \n",
    "                    use_multiprocessing=False, shuffle=True, initial_epoch=0)"
   ]
  },
  {
   "cell_type": "code",
   "execution_count": 12,
   "metadata": {},
   "outputs": [
    {
     "data": {
      "text/plain": [
       "<matplotlib.legend.Legend at 0x2725674bbc8>"
      ]
     },
     "execution_count": 12,
     "metadata": {},
     "output_type": "execute_result"
    },
    {
     "data": {
      "image/png": "[encoded data removed]",
      "text/plain": [
       "<Figure size 432x288 with 2 Axes>"
      ]
     },
     "metadata": {},
     "output_type": "display_data"
    }
   ],
   "source": [
    "fig, ax = plt.subplots(2,1)\n",
    "plt.suptitle('Accuracy and loss')\n",
    "ax[0].plot(model_history.history['loss'], label = 'Training loss')\n",
    "ax[0].plot(model_history.history['val_loss'], label = 'Validation loss')\n",
    "ax[0].legend(loc = 'best')\n",
    "\n",
    "ax[1].plot(model_history.history['accuracy'], label = 'Training accuracy')\n",
    "ax[1].plot(model_history.history['val_accuracy'], label = 'Validation accuracy')\n",
    "ax[1].legend(loc = 'best')"
   ]
  },
  {
   "cell_type": "code",
   "execution_count": 13,
   "metadata": {},
   "outputs": [
    {
     "name": "stdout",
     "output_type": "stream",
     "text": [
      "Total runtime is 1226.08\n"
     ]
    }
   ],
   "source": [
    "#Total runtime\n",
    "print(f'Total runtime is {round(time.time()-start_time,2)}')"
   ]
  }
 ],
 "metadata": {
  "kernelspec": {
   "display_name": "Python 3",
   "language": "python",
   "name": "python3"
  },
  "language_info": {
   "codemirror_mode": {
    "name": "ipython",
    "version": 3
   },
   "file_extension": ".py",
   "mimetype": "text/x-python",
   "name": "python",
   "nbconvert_exporter": "python",
   "pygments_lexer": "ipython3",
   "version": "3.7.4"
  }
 },
 "nbformat": 4,
 "nbformat_minor": 2
}
