{
 "cells": [
  {
   "cell_type": "markdown",
   "metadata": {},
   "source": [
    "Importing whatever I need."
   ]
  },
  {
   "cell_type": "code",
   "execution_count": 1,
   "metadata": {},
   "outputs": [],
   "source": [
    "#I want to know total running time of this notebook.\n",
    "import time\n",
    "start_time = time.time()"
   ]
  },
  {
   "cell_type": "code",
   "execution_count": 2,
   "metadata": {},
   "outputs": [
    {
     "name": "stderr",
     "output_type": "stream",
     "text": [
      "Using TensorFlow backend.\n"
     ]
    }
   ],
   "source": [
    "import pandas as pd\n",
    "import numpy as np\n",
    "#from scipy import cluster\n",
    "import seaborn as sns\n",
    "from matplotlib import pyplot as plt\n",
    "from matplotlib import image as mpimg\n",
    "%matplotlib inline\n",
    "\n",
    "from sklearn.model_selection import train_test_split\n",
    "from sklearn.metrics import confusion_matrix\n",
    "import itertools\n",
    "\n",
    "from keras.utils.np_utils import to_categorical # convert to one-hot-encoding\n",
    "from keras.models import Sequential\n",
    "from keras.layers import Dense, Dropout, Flatten, Conv2D, MaxPool2D\n",
    "from keras import optimizers\n",
    "from keras.preprocessing.image import ImageDataGenerator\n",
    "from keras.callbacks import ReduceLROnPlateau\n",
    "sns.set(style='white', context='notebook', palette='deep')"
   ]
  },
  {
   "cell_type": "code",
   "execution_count": 3,
   "metadata": {},
   "outputs": [],
   "source": [
    "import PIL"
   ]
  },
  {
   "cell_type": "code",
   "execution_count": 4,
   "metadata": {},
   "outputs": [],
   "source": [
    "data_dir = r'D:\\Desktop\\Python projects\\Natural images dataset and projects\\natural_images'"
   ]
  },
  {
   "cell_type": "code",
   "execution_count": 5,
   "metadata": {},
   "outputs": [
    {
     "name": "stdout",
     "output_type": "stream",
     "text": [
      "Found 5522 images belonging to 8 classes.\n",
      "Found 1377 images belonging to 8 classes.\n"
     ]
    }
   ],
   "source": [
    "BATCH_SIZE = 32\n",
    "IMAGE_SIZE=(128,128)\n",
    "IMAGE_SHAPE=(128,128,3)\n",
    "train_datagen = ImageDataGenerator(preprocessing_function=None,\n",
    "                                   shear_range=0.2,\n",
    "                                   zoom_range=0.3,\n",
    "                                   horizontal_flip=True,\n",
    "                                   validation_split=0.20, # set validation split\n",
    "                                   rescale = (1.0/255.0))\n",
    "                                   \n",
    "train_generator = train_datagen.flow_from_directory(\n",
    "    data_dir,\n",
    "    target_size = IMAGE_SIZE,\n",
    "    shuffle=True,\n",
    "    batch_size=BATCH_SIZE,\n",
    "    class_mode='categorical',\n",
    "    color_mode='rgb',\n",
    "    subset='training') # set as training data\n",
    "\n",
    "validation_generator = train_datagen.flow_from_directory(\n",
    "    data_dir, # same directory as training data\n",
    "    target_size = IMAGE_SIZE,\n",
    "    batch_size=BATCH_SIZE,\n",
    "    shuffle= False,\n",
    "    class_mode='categorical',\n",
    "    color_mode='rgb',\n",
    "    subset='validation') # set as validation data"
   ]
  },
  {
   "cell_type": "code",
   "execution_count": 6,
   "metadata": {
    "scrolled": true
   },
   "outputs": [],
   "source": [
    "model = Sequential()\n",
    "\n",
    "model.add(Conv2D(filters = 64, kernel_size = (5,5), input_shape = (128,128,3),\n",
    "                 activation ='relu'))\n",
    "model.add(MaxPool2D(pool_size=(2, 2)))\n",
    "model.add(Dropout(rate=0.25))\n",
    "\n",
    "model.add(Conv2D(filters=96, kernel_size=(5, 5), activation='relu'))\n",
    "model.add(MaxPool2D(pool_size=(2, 2)))\n",
    "\n",
    "model.add(Conv2D(filters=128, kernel_size=(5, 5), activation='relu'))\n",
    "model.add(MaxPool2D(pool_size=(2, 2)))\n",
    "\n",
    "model.add(Conv2D(filters=160, kernel_size=(3, 3), activation='relu'))\n",
    "\n",
    "model.add(Flatten())\n",
    "model.add(Dense(128, activation='relu'))\n",
    "model.add(Dropout(rate=0.25))\n",
    "model.add(Dense(8, activation='softmax'))"
   ]
  },
  {
   "cell_type": "code",
   "execution_count": 7,
   "metadata": {},
   "outputs": [],
   "source": [
    "optimizer = optimizers.Adadelta()\n",
    "\n",
    "learning_rate_reduction = ReduceLROnPlateau(monitor='val_acc', \n",
    "                                            patience=3, \n",
    "                                            verbose=1, \n",
    "                                            factor=0.5, \n",
    "                                            min_lr=0.00001)\n",
    "model.compile(optimizer = optimizer , loss = \"categorical_crossentropy\", metrics=[\"accuracy\"])\n"
   ]
  },
  {
   "cell_type": "code",
   "execution_count": 8,
   "metadata": {},
   "outputs": [
    {
     "name": "stdout",
     "output_type": "stream",
     "text": [
      "Model: \"sequential_1\"\n",
      "_________________________________________________________________\n",
      "Layer (type)                 Output Shape              Param #   \n",
      "=================================================================\n",
      "conv2d_1 (Conv2D)            (None, 124, 124, 64)      4864      \n",
      "_________________________________________________________________\n",
      "max_pooling2d_1 (MaxPooling2 (None, 62, 62, 64)        0         \n",
      "_________________________________________________________________\n",
      "dropout_1 (Dropout)          (None, 62, 62, 64)        0         \n",
      "_________________________________________________________________\n",
      "conv2d_2 (Conv2D)            (None, 58, 58, 96)        153696    \n",
      "_________________________________________________________________\n",
      "max_pooling2d_2 (MaxPooling2 (None, 29, 29, 96)        0         \n",
      "_________________________________________________________________\n",
      "conv2d_3 (Conv2D)            (None, 25, 25, 128)       307328    \n",
      "_________________________________________________________________\n",
      "max_pooling2d_3 (MaxPooling2 (None, 12, 12, 128)       0         \n",
      "_________________________________________________________________\n",
      "conv2d_4 (Conv2D)            (None, 10, 10, 160)       184480    \n",
      "_________________________________________________________________\n",
      "flatten_1 (Flatten)          (None, 16000)             0         \n",
      "_________________________________________________________________\n",
      "dense_1 (Dense)              (None, 128)               2048128   \n",
      "_________________________________________________________________\n",
      "dropout_2 (Dropout)          (None, 128)               0         \n",
      "_________________________________________________________________\n",
      "dense_2 (Dense)              (None, 8)                 1032      \n",
      "=================================================================\n",
      "Total params: 2,699,528\n",
      "Trainable params: 2,699,528\n",
      "Non-trainable params: 0\n",
      "_________________________________________________________________\n"
     ]
    }
   ],
   "source": [
    "model.summary()"
   ]
  },
  {
   "cell_type": "code",
   "execution_count": 9,
   "metadata": {},
   "outputs": [
    {
     "name": "stdout",
     "output_type": "stream",
     "text": [
      "Epoch 1/30\n",
      "173/173 [==============================] - 146s 843ms/step - loss: 1.8323 - accuracy: 0.3269 - val_loss: 1.3133 - val_accuracy: 0.5563\n",
      "Epoch 2/30\n",
      "173/173 [==============================] - 159s 921ms/step - loss: 1.0377 - accuracy: 0.6318 - val_loss: 0.0796 - val_accuracy: 0.7662\n",
      "Epoch 3/30\n",
      "173/173 [==============================] - 162s 939ms/step - loss: 0.6612 - accuracy: 0.7713 - val_loss: 1.1147 - val_accuracy: 0.7495\n",
      "Epoch 4/30\n",
      "173/173 [==============================] - 157s 908ms/step - loss: 0.5178 - accuracy: 0.8175 - val_loss: 0.0276 - val_accuracy: 0.8243\n",
      "Epoch 5/30\n",
      "173/173 [==============================] - 153s 884ms/step - loss: 0.4565 - accuracy: 0.8372 - val_loss: 0.1127 - val_accuracy: 0.8548\n",
      "Epoch 6/30\n",
      "173/173 [==============================] - 143s 828ms/step - loss: 0.3981 - accuracy: 0.8578 - val_loss: 0.0111 - val_accuracy: 0.8468\n",
      "Epoch 7/30\n",
      "173/173 [==============================] - 143s 825ms/step - loss: 0.3563 - accuracy: 0.8718 - val_loss: 2.5722e-04 - val_accuracy: 0.8620\n",
      "Epoch 8/30\n",
      "173/173 [==============================] - 143s 827ms/step - loss: 0.3291 - accuracy: 0.8823 - val_loss: 0.0216 - val_accuracy: 0.8882\n",
      "Epoch 9/30\n",
      "173/173 [==============================] - 143s 827ms/step - loss: 0.2956 - accuracy: 0.8957 - val_loss: 0.0017 - val_accuracy: 0.8860\n",
      "Epoch 10/30\n",
      "173/173 [==============================] - 143s 828ms/step - loss: 0.2777 - accuracy: 0.9011 - val_loss: 0.0187 - val_accuracy: 0.8845\n",
      "Epoch 11/30\n",
      "173/173 [==============================] - 149s 861ms/step - loss: 0.2552 - accuracy: 0.9064 - val_loss: 4.4443e-04 - val_accuracy: 0.8954\n",
      "Epoch 12/30\n",
      "173/173 [==============================] - 155s 895ms/step - loss: 0.2495 - accuracy: 0.9095 - val_loss: 2.6106e-05 - val_accuracy: 0.9056\n",
      "Epoch 13/30\n",
      "173/173 [==============================] - 149s 861ms/step - loss: 0.2224 - accuracy: 0.9181 - val_loss: 3.6955e-06 - val_accuracy: 0.8780\n",
      "Epoch 14/30\n",
      "173/173 [==============================] - 143s 826ms/step - loss: 0.2077 - accuracy: 0.9279 - val_loss: 4.1723e-06 - val_accuracy: 0.9056\n",
      "Epoch 15/30\n",
      "173/173 [==============================] - 143s 826ms/step - loss: 0.2104 - accuracy: 0.9236 - val_loss: 1.1563e-05 - val_accuracy: 0.9158\n",
      "Epoch 16/30\n",
      "173/173 [==============================] - 143s 825ms/step - loss: 0.1655 - accuracy: 0.9406 - val_loss: 1.7665e-04 - val_accuracy: 0.8816\n",
      "Epoch 17/30\n",
      "173/173 [==============================] - 143s 829ms/step - loss: 0.1684 - accuracy: 0.9420 - val_loss: 1.1921e-07 - val_accuracy: 0.9172\n",
      "Epoch 18/30\n",
      "173/173 [==============================] - 143s 826ms/step - loss: 0.1573 - accuracy: 0.9482 - val_loss: 2.3842e-07 - val_accuracy: 0.9216\n",
      "Epoch 19/30\n",
      "173/173 [==============================] - 153s 882ms/step - loss: 0.1726 - accuracy: 0.9404 - val_loss: 4.3049e-04 - val_accuracy: 0.8983\n",
      "Epoch 20/30\n",
      "173/173 [==============================] - 155s 894ms/step - loss: 0.1693 - accuracy: 0.9471 - val_loss: 4.7684e-07 - val_accuracy: 0.9237\n",
      "Epoch 21/30\n",
      "173/173 [==============================] - 148s 856ms/step - loss: 0.1417 - accuracy: 0.9500 - val_loss: 0.0000e+00 - val_accuracy: 0.9165\n",
      "Epoch 22/30\n",
      "173/173 [==============================] - 144s 830ms/step - loss: 0.1368 - accuracy: 0.9549 - val_loss: 1.1002e-04 - val_accuracy: 0.9099\n",
      "Epoch 23/30\n",
      "173/173 [==============================] - 144s 833ms/step - loss: 0.1339 - accuracy: 0.9535 - val_loss: 0.0000e+00 - val_accuracy: 0.9129\n",
      "Epoch 24/30\n",
      "173/173 [==============================] - 144s 832ms/step - loss: 0.1198 - accuracy: 0.9591 - val_loss: 8.1062e-06 - val_accuracy: 0.9281\n",
      "Epoch 25/30\n",
      "173/173 [==============================] - 147s 848ms/step - loss: 0.1201 - accuracy: 0.9569 - val_loss: 0.0000e+00 - val_accuracy: 0.8925\n",
      "Epoch 26/30\n",
      "173/173 [==============================] - 155s 895ms/step - loss: 0.1201 - accuracy: 0.9612 - val_loss: 2.0824e-04 - val_accuracy: 0.8925\n",
      "Epoch 27/30\n",
      "173/173 [==============================] - 154s 893ms/step - loss: 0.1118 - accuracy: 0.9614 - val_loss: 0.0000e+00 - val_accuracy: 0.9056\n",
      "Epoch 28/30\n",
      "173/173 [==============================] - 146s 845ms/step - loss: 0.1089 - accuracy: 0.9650 - val_loss: 0.0000e+00 - val_accuracy: 0.9121\n",
      "Epoch 29/30\n",
      "173/173 [==============================] - 144s 832ms/step - loss: 0.1077 - accuracy: 0.9640 - val_loss: 1.2398e-05 - val_accuracy: 0.9237\n",
      "Epoch 30/30\n",
      "173/173 [==============================] - 144s 831ms/step - loss: 0.1056 - accuracy: 0.9669 - val_loss: 0.0000e+00 - val_accuracy: 0.9136\n"
     ]
    }
   ],
   "source": [
    "epochs = 30\n",
    "\n",
    "model_history = model.fit_generator(train_generator, steps_per_epoch=len(train_generator), epochs=epochs, verbose=1, \n",
    "                    callbacks=None, validation_data=validation_generator, \n",
    "                    validation_steps=len(validation_generator), \n",
    "                    class_weight=None, max_queue_size=10, workers=1, \n",
    "                    use_multiprocessing=False, shuffle=True, initial_epoch=0)"
   ]
  },
  {
   "cell_type": "code",
   "execution_count": 10,
   "metadata": {},
   "outputs": [
    {
     "data": {
      "text/plain": [
       "<matplotlib.legend.Legend at 0x18d9756efc8>"
      ]
     },
     "execution_count": 10,
     "metadata": {},
     "output_type": "execute_result"
    },
    {
     "data": {
      "image/png": "[encoded data removed]",
      "text/plain": [
       "<Figure size 432x288 with 2 Axes>"
      ]
     },
     "metadata": {},
     "output_type": "display_data"
    }
   ],
   "source": [
    "fig, ax = plt.subplots(2,1)\n",
    "plt.suptitle('Accuracy and loss')\n",
    "ax[0].plot(model_history.history['loss'], label = 'Training loss')\n",
    "ax[0].plot(model_history.history['val_loss'], label = 'Validation loss')\n",
    "ax[0].legend(loc = 'best')\n",
    "\n",
    "ax[1].plot(model_history.history['accuracy'], label = 'Training accuracy')\n",
    "ax[1].plot(model_history.history['val_accuracy'], label = 'Validation accuracy')\n",
    "ax[1].legend(loc = 'best')"
   ]
  },
  {
   "cell_type": "code",
   "execution_count": 12,
   "metadata": {},
   "outputs": [
    {
     "name": "stdout",
     "output_type": "stream",
     "text": [
      "Epoch 1/10\n",
      "173/173 [==============================] - 156s 899ms/step - loss: 0.0947 - accuracy: 0.9683 - val_loss: 4.0531e-06 - val_accuracy: 0.9092\n",
      "Epoch 2/10\n",
      "173/173 [==============================] - 157s 908ms/step - loss: 0.0917 - accuracy: 0.9687 - val_loss: 0.0000e+00 - val_accuracy: 0.8991\n",
      "Epoch 3/10\n",
      "173/173 [==============================] - 145s 839ms/step - loss: 0.1025 - accuracy: 0.9661 - val_loss: 0.0000e+00 - val_accuracy: 0.9187\n",
      "Epoch 4/10\n",
      "173/173 [==============================] - 145s 836ms/step - loss: 0.0845 - accuracy: 0.9727 - val_loss: 0.0000e+00 - val_accuracy: 0.9172\n",
      "Epoch 5/10\n",
      "173/173 [==============================] - 157s 906ms/step - loss: 0.0835 - accuracy: 0.9717 - val_loss: 3.5763e-07 - val_accuracy: 0.8947\n",
      "Epoch 6/10\n",
      "173/173 [==============================] - 156s 905ms/step - loss: 0.0825 - accuracy: 0.9739 - val_loss: 0.0000e+00 - val_accuracy: 0.9245\n",
      "Epoch 7/10\n",
      "173/173 [==============================] - 155s 894ms/step - loss: 0.0876 - accuracy: 0.9725 - val_loss: 0.0000e+00 - val_accuracy: 0.9092\n",
      "Epoch 8/10\n",
      "173/173 [==============================] - 145s 837ms/step - loss: 0.1030 - accuracy: 0.9710 - val_loss: 0.0000e+00 - val_accuracy: 0.9172\n",
      "Epoch 9/10\n",
      "173/173 [==============================] - 144s 835ms/step - loss: 0.0781 - accuracy: 0.9775 - val_loss: 0.0000e+00 - val_accuracy: 0.9216\n",
      "Epoch 10/10\n",
      "173/173 [==============================] - 146s 842ms/step - loss: 0.1002 - accuracy: 0.9712 - val_loss: 0.0000e+00 - val_accuracy: 0.9230\n"
     ]
    }
   ],
   "source": [
    "epochs = 10\n",
    "\n",
    "model_history = model.fit_generator(train_generator, steps_per_epoch=len(train_generator), epochs=epochs, verbose=1, \n",
    "                    callbacks=None, validation_data=validation_generator, \n",
    "                    validation_steps=len(validation_generator), \n",
    "                    class_weight=None, max_queue_size=10, workers=1, \n",
    "                    use_multiprocessing=False, shuffle=True, initial_epoch=0)"
   ]
  },
  {
   "cell_type": "code",
   "execution_count": 13,
   "metadata": {},
   "outputs": [
    {
     "data": {
      "text/plain": [
       "<matplotlib.legend.Legend at 0x18d946d8948>"
      ]
     },
     "execution_count": 13,
     "metadata": {},
     "output_type": "execute_result"
    },
    {
     "data": {
      "image/png": "[encoded data removed]",
      "text/plain": [
       "<Figure size 432x288 with 2 Axes>"
      ]
     },
     "metadata": {},
     "output_type": "display_data"
    }
   ],
   "source": [
    "#last 10 epochs\n",
    "fig, ax = plt.subplots(2,1)\n",
    "plt.suptitle('Accuracy and loss')\n",
    "ax[0].plot(model_history.history['loss'], label = 'Training loss')\n",
    "ax[0].plot(model_history.history['val_loss'], label = 'Validation loss')\n",
    "ax[0].legend(loc = 'best')\n",
    "\n",
    "ax[1].plot(model_history.history['accuracy'], label = 'Training accuracy')\n",
    "ax[1].plot(model_history.history['val_accuracy'], label = 'Validation accuracy')\n",
    "ax[1].legend(loc = 'best')"
   ]
  },
  {
   "cell_type": "code",
   "execution_count": 11,
   "metadata": {},
   "outputs": [
    {
     "name": "stdout",
     "output_type": "stream",
     "text": [
      "Total runtime is 4442.93\n"
     ]
    }
   ],
   "source": [
    "#Total runtime (30 epochs)\n",
    "print(f'Total runtime is {round(time.time()-start_time,2)}')"
   ]
  }
 ],
 "metadata": {
  "kernelspec": {
   "display_name": "Python 3",
   "language": "python",
   "name": "python3"
  },
  "language_info": {
   "codemirror_mode": {
    "name": "ipython",
    "version": 3
   },
   "file_extension": ".py",
   "mimetype": "text/x-python",
   "name": "python",
   "nbconvert_exporter": "python",
   "pygments_lexer": "ipython3",
   "version": "3.7.4"
  }
 },
 "nbformat": 4,
 "nbformat_minor": 2
}
